{
 "cells": [
  {
   "cell_type": "markdown",
   "id": "7d1ba41c-829a-4224-873e-997dfac31b96",
   "metadata": {},
   "source": [
    "<p align=\"center\">\n",
    "  <img src=\"https://raw.githubusercontent.com/gracekitonyi-bit/gracekitonyi-bit-daily-reports/main/AIMS_Logo.jpeg\"\n",
    "       alt=\"AIMS Logo\" width=\"400\"/>\n",
    "</p>\n",
    "\n",
    "<p align=\"center\"><b>AFRICAN INSTITUTE FOR MATHEMATICAL SCIENCES – AIMS-RWANDA</b></p>\n",
    "<hr>\n",
    "\n",
    "<h2 align=\"center\">\n",
    "Help, Variables, Expressions & Statements\n",
    "</h2>\n",
    "<hr>\n",
    "\n",
    "<p align=\"center\">September 24, 2025</p>\n"
   ]
  },
  {
   "cell_type": "markdown",
   "id": "cd8bd5a0-c6b7-4f7e-a40f-1afcaba94916",
   "metadata": {},
   "source": [
    "# ASSIGNMENT 1"
   ]
  },
  {
   "cell_type": "markdown",
   "id": "af42ac5a-7ea3-48dc-b6e8-8b58a4f9f0ad",
   "metadata": {},
   "source": [
    "## 1 Getting help in python\n",
    "Start the Python interpreter and type help() to start the online help utility. Or you can type\n",
    "help(print) to get information about the print function. When finished with the help utility,\n",
    "type quit at the prompt to return to the interpreter."
   ]
  },
  {
   "cell_type": "code",
   "execution_count": 47,
   "id": "e22cf252-8ffa-4474-8c29-d5a0ddf77523",
   "metadata": {},
   "outputs": [
    {
     "name": "stdout",
     "output_type": "stream",
     "text": [
      "Welcome to Python 3.13's help utility! If this is your first time using\n",
      "Python, you should definitely check out the tutorial at\n",
      "https://docs.python.org/3.13/tutorial/.\n",
      "\n",
      "Enter the name of any module, keyword, or topic to get help on writing\n",
      "Python programs and using Python modules.  To get a list of available\n",
      "modules, keywords, symbols, or topics, enter \"modules\", \"keywords\",\n",
      "\"symbols\", or \"topics\".\n",
      "\n",
      "Each module also comes with a one-line summary of what it does; to list\n",
      "the modules whose name or summary contain a given string such as \"spam\",\n",
      "enter \"modules spam\".\n",
      "\n",
      "To quit this help utility and return to the interpreter,\n",
      "enter \"q\", \"quit\" or \"exit\".\n",
      "\n"
     ]
    },
    {
     "name": "stdin",
     "output_type": "stream",
     "text": [
      "help>  print\n"
     ]
    },
    {
     "name": "stdout",
     "output_type": "stream",
     "text": [
      "Help on built-in function print in module builtins:\n",
      "\n",
      "print(*args, sep=' ', end='\\n', file=None, flush=False)\n",
      "    Prints the values to a stream, or to sys.stdout by default.\n",
      "\n",
      "    sep\n",
      "      string inserted between values, default a space.\n",
      "    end\n",
      "      string appended after the last value, default a newline.\n",
      "    file\n",
      "      a file-like object (stream); defaults to the current sys.stdout.\n",
      "    flush\n",
      "      whether to forcibly flush the stream.\n",
      "\n"
     ]
    },
    {
     "name": "stdin",
     "output_type": "stream",
     "text": [
      "help>  print\n"
     ]
    },
    {
     "name": "stdout",
     "output_type": "stream",
     "text": [
      "Help on built-in function print in module builtins:\n",
      "\n",
      "print(*args, sep=' ', end='\\n', file=None, flush=False)\n",
      "    Prints the values to a stream, or to sys.stdout by default.\n",
      "\n",
      "    sep\n",
      "      string inserted between values, default a space.\n",
      "    end\n",
      "      string appended after the last value, default a newline.\n",
      "    file\n",
      "      a file-like object (stream); defaults to the current sys.stdout.\n",
      "    flush\n",
      "      whether to forcibly flush the stream.\n",
      "\n"
     ]
    },
    {
     "name": "stdin",
     "output_type": "stream",
     "text": [
      "help>  quit\n"
     ]
    },
    {
     "name": "stdout",
     "output_type": "stream",
     "text": [
      "\n",
      "You are now leaving help and returning to the Python interpreter.\n",
      "If you want to ask for help on a particular object directly from the\n",
      "interpreter, you can type \"help(object)\".  Executing \"help('string')\"\n",
      "has the same effect as typing a particular string at the help> prompt.\n"
     ]
    }
   ],
   "source": [
    "help()"
   ]
  },
  {
   "cell_type": "markdown",
   "id": "bfa23c9a-db94-4523-9eb6-2f7d14dc1ca3",
   "metadata": {},
   "source": [
    "## 2 Doing calculation the python way\n",
    "1. Assume that we execute the following assignment statements:\n",
    "   \n",
    "width = 17\n",
    "\n",
    "height = 12.0\n",
    "\n",
    "delimiter = ’.’\n",
    "\n",
    "For each of the following expressions, write the value of the expression and the type (of\n",
    "the value of the expression).\n",
    "\n",
    "a) width/2\n",
    "\n",
    "b) width/2.0\n",
    "\n",
    "c) height/3"
   ]
  },
  {
   "cell_type": "code",
   "execution_count": 48,
   "id": "d30067c7-ee4e-4c98-88a8-4b49c879afb0",
   "metadata": {},
   "outputs": [],
   "source": [
    "width = 17\n",
    "height = 12.0\n",
    "delimiter = \".\""
   ]
  },
  {
   "cell_type": "markdown",
   "id": "07797c1c-aec1-49cd-a34b-a9890597f70d",
   "metadata": {},
   "source": [
    "a) width/2"
   ]
  },
  {
   "cell_type": "code",
   "execution_count": 49,
   "id": "9e246e24-912d-469c-953f-de4731c5d367",
   "metadata": {},
   "outputs": [
    {
     "data": {
      "text/plain": [
       "8.5"
      ]
     },
     "execution_count": 49,
     "metadata": {},
     "output_type": "execute_result"
    }
   ],
   "source": [
    "width/2"
   ]
  },
  {
   "cell_type": "code",
   "execution_count": 50,
   "id": "1c6b039f-d1d8-4b52-94ce-a4de76c3fe08",
   "metadata": {},
   "outputs": [],
   "source": [
    "a=17/2"
   ]
  },
  {
   "cell_type": "code",
   "execution_count": 51,
   "id": "86c53dbc-f6dd-4ad7-9e88-f1eef6b43649",
   "metadata": {},
   "outputs": [
    {
     "name": "stdout",
     "output_type": "stream",
     "text": [
      "8.5\n"
     ]
    }
   ],
   "source": [
    "print(a)"
   ]
  },
  {
   "cell_type": "code",
   "execution_count": 52,
   "id": "27cfe322-5a92-4fa5-8b68-d2dfc1ddc928",
   "metadata": {},
   "outputs": [
    {
     "data": {
      "text/plain": [
       "float"
      ]
     },
     "execution_count": 52,
     "metadata": {},
     "output_type": "execute_result"
    }
   ],
   "source": [
    "type(a)"
   ]
  },
  {
   "cell_type": "markdown",
   "id": "47cffbe8-a936-491a-8442-60a92620b3d9",
   "metadata": {},
   "source": [
    "b) width/2.0"
   ]
  },
  {
   "cell_type": "code",
   "execution_count": 53,
   "id": "48437bb6-6503-4121-9245-a44aa487828b",
   "metadata": {},
   "outputs": [],
   "source": [
    "x=width/2.0"
   ]
  },
  {
   "cell_type": "code",
   "execution_count": 54,
   "id": "31aec8ce-c2fd-40e6-b0ae-3d7229682d67",
   "metadata": {},
   "outputs": [
    {
     "name": "stdout",
     "output_type": "stream",
     "text": [
      "<class 'float'>\n"
     ]
    }
   ],
   "source": [
    "print(type(x))"
   ]
  },
  {
   "cell_type": "markdown",
   "id": "32544c33-dedc-445f-b42f-35b7dde5cd96",
   "metadata": {},
   "source": [
    "c) height/3\n"
   ]
  },
  {
   "cell_type": "code",
   "execution_count": 55,
   "id": "d08c2d16-74dc-4f19-bcfb-0befaabd6487",
   "metadata": {},
   "outputs": [
    {
     "data": {
      "text/plain": [
       "4.0"
      ]
     },
     "execution_count": 55,
     "metadata": {},
     "output_type": "execute_result"
    }
   ],
   "source": [
    "height/3\n"
   ]
  },
  {
   "cell_type": "code",
   "execution_count": 56,
   "id": "dcc8cf60-9f2e-4a10-ac4a-42385fb25cbf",
   "metadata": {},
   "outputs": [
    {
     "data": {
      "text/plain": [
       "float"
      ]
     },
     "execution_count": 56,
     "metadata": {},
     "output_type": "execute_result"
    }
   ],
   "source": [
    "type(height)"
   ]
  },
  {
   "cell_type": "markdown",
   "id": "9fcc6a78-2c37-4b3c-9786-e22ae8b2715b",
   "metadata": {},
   "source": [
    "d) 1 + 2 * 5"
   ]
  },
  {
   "cell_type": "code",
   "execution_count": 57,
   "id": "68653e85-b103-4fec-87b1-652057f2a3e8",
   "metadata": {},
   "outputs": [
    {
     "data": {
      "text/plain": [
       "11"
      ]
     },
     "execution_count": 57,
     "metadata": {},
     "output_type": "execute_result"
    }
   ],
   "source": [
    "d=1 + 2 * 5\n",
    "d"
   ]
  },
  {
   "cell_type": "code",
   "execution_count": 58,
   "id": "6133433b-43f3-479c-8d0d-d9532718ba5f",
   "metadata": {},
   "outputs": [
    {
     "data": {
      "text/plain": [
       "int"
      ]
     },
     "execution_count": 58,
     "metadata": {},
     "output_type": "execute_result"
    }
   ],
   "source": [
    "type(d)"
   ]
  },
  {
   "cell_type": "code",
   "execution_count": 59,
   "id": "8d491c84-d6f8-4357-9d3e-d2e647e0df67",
   "metadata": {},
   "outputs": [
    {
     "data": {
      "text/plain": [
       "'.....'"
      ]
     },
     "execution_count": 59,
     "metadata": {},
     "output_type": "execute_result"
    }
   ],
   "source": [
    "delimiter * 5"
   ]
  },
  {
   "cell_type": "code",
   "execution_count": 60,
   "id": "d9333885-8a76-4bec-92af-dad271633166",
   "metadata": {},
   "outputs": [
    {
     "data": {
      "text/plain": [
       "str"
      ]
     },
     "execution_count": 60,
     "metadata": {},
     "output_type": "execute_result"
    }
   ],
   "source": [
    "type(delimiter)"
   ]
  },
  {
   "cell_type": "markdown",
   "id": "07a02277-d0e5-4f8a-96a1-33e99bcddc0b",
   "metadata": {},
   "source": [
    "Use the Python interpreter and the type function to check your answers"
   ]
  },
  {
   "cell_type": "markdown",
   "id": "0ff7dc84-361e-4200-8c40-a14d3ffef7da",
   "metadata": {},
   "source": [
    "2. Practice using the Python interpreter as a calculator:\n",
    "The volume of a sphere with radius r is $\\frac{4}\n",
    "{3}\n",
    "πr^3$\n",
    ". What is the volume of a sphere with radius\n",
    "$5$?\n"
   ]
  },
  {
   "cell_type": "code",
   "execution_count": 61,
   "id": "1cad0562-3e23-4b9e-b6ef-71a44a6f2dc8",
   "metadata": {},
   "outputs": [],
   "source": [
    "import math"
   ]
  },
  {
   "cell_type": "code",
   "execution_count": 62,
   "id": "a7874146-ec59-421e-a015-4db91c140775",
   "metadata": {},
   "outputs": [
    {
     "data": {
      "text/plain": [
       "3.141592653589793"
      ]
     },
     "execution_count": 62,
     "metadata": {},
     "output_type": "execute_result"
    }
   ],
   "source": [
    "math.pi"
   ]
  },
  {
   "cell_type": "code",
   "execution_count": 63,
   "id": "3f3ee68a-4b27-4bf1-a34b-4d66188dbf8e",
   "metadata": {},
   "outputs": [
    {
     "name": "stdout",
     "output_type": "stream",
     "text": [
      "523.5987755982989\n"
     ]
    }
   ],
   "source": [
    "r = 5\n",
    "volume = (4/3) * math.pi * r**3\n",
    "print(volume)\n"
   ]
  },
  {
   "cell_type": "markdown",
   "id": "f3f827e9-9b61-46a9-aba8-f93ead7765b5",
   "metadata": {},
   "source": [
    "## 3 Knowing more about data types and their operations"
   ]
  },
  {
   "cell_type": "markdown",
   "id": "0598e8ea-151b-498d-af71-98c5e66d0c54",
   "metadata": {},
   "source": [
    "Assign variables with the values 1, 5, and \"ten\" with the types int, float, and string respectively.\n",
    "1. Confirm that the types are int, float.\n"
   ]
  },
  {
   "cell_type": "code",
   "execution_count": 64,
   "id": "72587d32-e09a-4e28-812a-40edf833f3bb",
   "metadata": {},
   "outputs": [],
   "source": [
    "a=1\n",
    "b=5.0\n",
    "c=\"ten\""
   ]
  },
  {
   "cell_type": "code",
   "execution_count": 65,
   "id": "4bc989d1-f4d4-495a-ad76-8d46df507884",
   "metadata": {},
   "outputs": [
    {
     "name": "stdout",
     "output_type": "stream",
     "text": [
      "<class 'int'>\n"
     ]
    }
   ],
   "source": [
    "print(type(a))"
   ]
  },
  {
   "cell_type": "code",
   "execution_count": 66,
   "id": "35c58104-12a5-4ccd-a183-5ef00be0a50b",
   "metadata": {},
   "outputs": [
    {
     "name": "stdout",
     "output_type": "stream",
     "text": [
      "<class 'float'>\n"
     ]
    }
   ],
   "source": [
    "print(type(b))"
   ]
  },
  {
   "cell_type": "code",
   "execution_count": 67,
   "id": "0588da28-f12e-4169-8e84-4c70983282b1",
   "metadata": {},
   "outputs": [
    {
     "name": "stdout",
     "output_type": "stream",
     "text": [
      "<class 'str'>\n"
     ]
    }
   ],
   "source": [
    "print(type(c))\n"
   ]
  },
  {
   "cell_type": "markdown",
   "id": "2db38fc9-fe5a-4436-a419-fa411fd23285",
   "metadata": {},
   "source": [
    "2. Determine for which of the following pairs of the set of int, float, and str, the +\n",
    "operation gives an error.\n",
    "\n",
    "(i) int-int\n",
    "\n",
    "(ii) int-float\n",
    "\n",
    "(iii) float-float\n",
    "\n",
    "(iv) float-str\n",
    "\n",
    "(v) str-str\n",
    "\n",
    "Any surprises?\n",
    "\n"
   ]
  },
  {
   "cell_type": "code",
   "execution_count": 68,
   "id": "555a963d-d2ec-43aa-b59c-0e83a6f0e152",
   "metadata": {},
   "outputs": [
    {
     "name": "stdout",
     "output_type": "stream",
     "text": [
      "<class 'float'>\n",
      "<class 'int'>\n",
      "<class 'str'>\n"
     ]
    }
   ],
   "source": [
    "i=2\n",
    "f=2.0\n",
    "s=\"string\"\n",
    "print(type(f))\n",
    "print(type(i))\n",
    "print(type(s))\n"
   ]
  },
  {
   "cell_type": "code",
   "execution_count": 69,
   "id": "0d70c6e6-b263-4113-9458-ba2021213695",
   "metadata": {},
   "outputs": [
    {
     "data": {
      "text/plain": [
       "4"
      ]
     },
     "execution_count": 69,
     "metadata": {},
     "output_type": "execute_result"
    }
   ],
   "source": [
    "2+2"
   ]
  },
  {
   "cell_type": "code",
   "execution_count": 70,
   "id": "4e7a3810-edd0-4161-868d-ce5882e35bdb",
   "metadata": {},
   "outputs": [
    {
     "data": {
      "text/plain": [
       "4.0"
      ]
     },
     "execution_count": 70,
     "metadata": {},
     "output_type": "execute_result"
    }
   ],
   "source": [
    "2+2.0"
   ]
  },
  {
   "cell_type": "code",
   "execution_count": 71,
   "id": "9e17d180-9e89-4955-a589-5d670825a344",
   "metadata": {},
   "outputs": [
    {
     "data": {
      "text/plain": [
       "4.0"
      ]
     },
     "execution_count": 71,
     "metadata": {},
     "output_type": "execute_result"
    }
   ],
   "source": [
    "2.0+2.0"
   ]
  },
  {
   "cell_type": "code",
   "execution_count": 72,
   "id": "f269c321-1ceb-43a6-b2e0-afe075b850cc",
   "metadata": {},
   "outputs": [
    {
     "ename": "TypeError",
     "evalue": "unsupported operand type(s) for +: 'float' and 'str'",
     "output_type": "error",
     "traceback": [
      "\u001b[1;31m---------------------------------------------------------------------------\u001b[0m",
      "\u001b[1;31mTypeError\u001b[0m                                 Traceback (most recent call last)",
      "Cell \u001b[1;32mIn[72], line 1\u001b[0m\n\u001b[1;32m----> 1\u001b[0m \u001b[38;5;241m2.0\u001b[39m\u001b[38;5;241m+\u001b[39m\u001b[38;5;124m\"\u001b[39m\u001b[38;5;124mstring\u001b[39m\u001b[38;5;124m\"\u001b[39m\n",
      "\u001b[1;31mTypeError\u001b[0m: unsupported operand type(s) for +: 'float' and 'str'"
     ]
    }
   ],
   "source": [
    "2.0+\"string\""
   ]
  },
  {
   "cell_type": "code",
   "execution_count": null,
   "id": "4387b9f2-1854-4328-9cc4-c1489c2a17c6",
   "metadata": {},
   "outputs": [],
   "source": [
    "\"string\"+\"string\""
   ]
  },
  {
   "cell_type": "markdown",
   "id": "a0263aad-293f-4d81-93fc-e5a864898e6c",
   "metadata": {},
   "source": [
    "The main surprise is float + str (or int + str) — Python does not allow adding numbers to strings directly. You must explicitly convert the number to a string first:"
   ]
  },
  {
   "cell_type": "markdown",
   "id": "cd7ac9d7-9117-4554-8e7a-3af87824c041",
   "metadata": {},
   "source": [
    "3. Repeat 2. with the *, -, /, %, <, >, >=, <= and == operators. Any surprises?"
   ]
  },
  {
   "cell_type": "markdown",
   "id": "80cf31e7-3dc6-4202-bbf0-3496ff09cc33",
   "metadata": {},
   "source": [
    "Multiplication *"
   ]
  },
  {
   "cell_type": "code",
   "execution_count": null,
   "id": "7085d4ac-52f4-401e-95f9-273dc138c6e5",
   "metadata": {},
   "outputs": [],
   "source": [
    "a=1\n",
    "b=2.0\n",
    "c=\"3\""
   ]
  },
  {
   "cell_type": "code",
   "execution_count": null,
   "id": "f84af8ce-3ed3-4599-b31c-c74ef007dcba",
   "metadata": {},
   "outputs": [],
   "source": [
    "print(type(a))\n",
    "print(type(b))\n",
    "print(type(c))"
   ]
  },
  {
   "cell_type": "code",
   "execution_count": null,
   "id": "bd4b1a56-14bf-48a7-96b8-261d53658ee6",
   "metadata": {},
   "outputs": [],
   "source": [
    "1*1"
   ]
  },
  {
   "cell_type": "code",
   "execution_count": null,
   "id": "72a491ff-dab5-4f09-86dc-04d892a641e7",
   "metadata": {},
   "outputs": [],
   "source": [
    "2.0*1"
   ]
  },
  {
   "cell_type": "code",
   "execution_count": null,
   "id": "28962e7b-a055-4773-81ea-3620588d01cb",
   "metadata": {},
   "outputs": [],
   "source": [
    "2.0*2.0"
   ]
  },
  {
   "cell_type": "code",
   "execution_count": null,
   "id": "fd050ed3-666d-47f0-93a1-83b388e2c50f",
   "metadata": {},
   "outputs": [],
   "source": [
    "2.0*\"3\""
   ]
  },
  {
   "cell_type": "code",
   "execution_count": null,
   "id": "f3206dc4-2d8c-470b-809a-593fae736438",
   "metadata": {},
   "outputs": [],
   "source": [
    "\"3\"*\"3\""
   ]
  },
  {
   "cell_type": "markdown",
   "id": "cfb27a04-cd96-40d4-8cc1-e087977d5b51",
   "metadata": {},
   "source": [
    "Multiplying a string by an integer repeats it.\n",
    "\n",
    "Multiplying by a float or another string is not allowed.\n",
    "\n",
    "This is a surprise because mathematically, multiplication of strings doesn’t make sense, but Python treats it as repetition."
   ]
  },
  {
   "cell_type": "markdown",
   "id": "e88da169-7a5c-48d0-98e1-09ca7dbb1c3e",
   "metadata": {},
   "source": [
    "subtraction -"
   ]
  },
  {
   "cell_type": "code",
   "execution_count": null,
   "id": "ae8dd13a-cff9-46b1-965e-f9c9833b3aa1",
   "metadata": {},
   "outputs": [],
   "source": [
    "# int - int\n",
    "a, b = 5, 3\n",
    "res = a - b\n",
    "print(res, type(res))  # 2 <class 'int'>"
   ]
  },
  {
   "cell_type": "code",
   "execution_count": null,
   "id": "a1539b65-2fad-4ee8-94c0-411272e864e7",
   "metadata": {},
   "outputs": [],
   "source": [
    "# int - float\n",
    "a, b = 5, 3.0\n",
    "res = a - b\n",
    "print(res, type(res))  # 2.0 <class 'float'>"
   ]
  },
  {
   "cell_type": "code",
   "execution_count": null,
   "id": "faf2a9e5-2067-4168-b040-0472fe063fdc",
   "metadata": {},
   "outputs": [],
   "source": [
    "# float - float\n",
    "a, b = 5.0, 3.0\n",
    "res = a - b\n",
    "print(res, type(res))  # 2.0 <class 'float'>"
   ]
  },
  {
   "cell_type": "code",
   "execution_count": null,
   "id": "864cdbdb-473c-469a-8bb5-fc18a6fcd6f8",
   "metadata": {},
   "outputs": [],
   "source": [
    "# float - str\n",
    "a, b = 5.0, \"3\"\n",
    "res = a - b\n",
    "print(res, type(res))"
   ]
  },
  {
   "cell_type": "code",
   "execution_count": null,
   "id": "aa0fccc3-5559-42cb-8cad-4d52e99ca559",
   "metadata": {},
   "outputs": [],
   "source": [
    "# str - str\n",
    "a, b = \"5\", \"3\"\n",
    "res = a - b\n",
    "print(res, type(res))"
   ]
  },
  {
   "cell_type": "markdown",
   "id": "5aabf32d-67c6-4e86-9641-fa66236d2b9b",
   "metadata": {},
   "source": [
    "Division /"
   ]
  },
  {
   "cell_type": "code",
   "execution_count": null,
   "id": "d704f83e-f61e-4922-a9fa-aac37b3ea50a",
   "metadata": {},
   "outputs": [],
   "source": [
    "# int / int\n",
    "a, b = 5, 3\n",
    "res = a / b\n",
    "print(res, type(res))"
   ]
  },
  {
   "cell_type": "code",
   "execution_count": null,
   "id": "4f4c0d07-39df-4954-b118-96958de87337",
   "metadata": {},
   "outputs": [],
   "source": [
    "# int / float\n",
    "a, b = 5, 3.0\n",
    "res = a / b\n",
    "print(res, type(res))"
   ]
  },
  {
   "cell_type": "code",
   "execution_count": null,
   "id": "15a14383-0756-44aa-ae7b-d218be1a5a0b",
   "metadata": {},
   "outputs": [],
   "source": [
    "# float / float\n",
    "a, b = 5.0, 3.0\n",
    "res = a / b\n",
    "print(res, type(res))"
   ]
  },
  {
   "cell_type": "code",
   "execution_count": null,
   "id": "b1e9d3db-c56f-4681-8118-562b473582c4",
   "metadata": {},
   "outputs": [],
   "source": [
    "# float / str\n",
    "a, b = 5.0, \"3\"\n",
    "res = a / b\n",
    "print(res, type(res))"
   ]
  },
  {
   "cell_type": "code",
   "execution_count": null,
   "id": "71c19671-494d-4d3e-a4db-b79670af2e78",
   "metadata": {},
   "outputs": [],
   "source": [
    "# str / str\n",
    "a, b = \"5\", \"3\"\n",
    "res = a / b\n",
    "print(res, type(res))"
   ]
  },
  {
   "cell_type": "markdown",
   "id": "bb059ca3-fc83-4e0d-8404-b9a3f1e612f2",
   "metadata": {},
   "source": [
    "Modulus %"
   ]
  },
  {
   "cell_type": "code",
   "execution_count": null,
   "id": "8c96cdab-453c-44d6-ae51-909b5763e824",
   "metadata": {},
   "outputs": [],
   "source": [
    "# int % int\n",
    "a, b = 5, 3\n",
    "res = a % b\n",
    "print(res, type(res))"
   ]
  },
  {
   "cell_type": "code",
   "execution_count": null,
   "id": "f8c60ca4-2d4c-4ff4-9603-6636e0148861",
   "metadata": {},
   "outputs": [],
   "source": [
    "# int % float\n",
    "a, b = 5, 3.0\n",
    "res = a % b\n",
    "print(res, type(res))"
   ]
  },
  {
   "cell_type": "code",
   "execution_count": null,
   "id": "c7d417fc-49df-49b8-a803-bb8832b4682c",
   "metadata": {},
   "outputs": [],
   "source": [
    "# float % float\n",
    "a, b = 5.0, 3.0\n",
    "res = a % b\n",
    "print(res, type(res))"
   ]
  },
  {
   "cell_type": "code",
   "execution_count": null,
   "id": "5a85de0e-430d-4657-9ead-e1fa393ae089",
   "metadata": {},
   "outputs": [],
   "source": [
    "# float % str\n",
    "a, b = 5.0, \"3\"\n",
    "res = a % b\n",
    "print(res, type(res))"
   ]
  },
  {
   "cell_type": "code",
   "execution_count": null,
   "id": "b6516c8e-a97e-49d3-bc0e-0c1ec7d668f1",
   "metadata": {},
   "outputs": [],
   "source": [
    "# str % str (formatting)\n",
    "a, b = \"Hello %s\", \"World\"\n",
    "res = a % b\n",
    "print(res, type(res))"
   ]
  },
  {
   "cell_type": "code",
   "execution_count": null,
   "id": "07ecd133-f5e7-498a-a726-5707bf2cda18",
   "metadata": {},
   "outputs": [],
   "source": [
    "# str % str (invalid)\n",
    "a, b = \"Hello\", \"World\"\n",
    "res = a % b\n",
    "print(res, type(res))"
   ]
  },
  {
   "cell_type": "markdown",
   "id": "ac62fd4f-c850-4290-8c33-7e67b59f2f67",
   "metadata": {},
   "source": [
    "Comparison <, >, >=, <="
   ]
  },
  {
   "cell_type": "markdown",
   "id": "498068a8-d147-4c3a-995b-35418402565e",
   "metadata": {},
   "source": [
    "Less than <"
   ]
  },
  {
   "cell_type": "code",
   "execution_count": null,
   "id": "99f6543f-6ee0-4e32-b37d-fef9e3c58d08",
   "metadata": {},
   "outputs": [],
   "source": [
    "# int < int\n",
    "a, b = 5, 3\n",
    "res = a < b\n",
    "print(res, type(res))"
   ]
  },
  {
   "cell_type": "code",
   "execution_count": null,
   "id": "a690a667-ec3f-4d30-8c6c-6d82575153a1",
   "metadata": {},
   "outputs": [],
   "source": [
    "# int < float\n",
    "a, b = 5, 3.0\n",
    "res = a < b\n",
    "print(res, type(res))"
   ]
  },
  {
   "cell_type": "code",
   "execution_count": null,
   "id": "2637a840-1c44-4e6e-bcea-9082c3eac106",
   "metadata": {},
   "outputs": [],
   "source": [
    "# float < float\n",
    "a, b = 5.0, 3.0\n",
    "res = a < b\n",
    "print(res, type(res))"
   ]
  },
  {
   "cell_type": "code",
   "execution_count": null,
   "id": "51ddf43c-c703-4b03-ba85-add5d2c3c64d",
   "metadata": {},
   "outputs": [],
   "source": [
    "# float < str\n",
    "a, b = 5.0, \"3\"\n",
    "res = a < b\n",
    "print(res, type(res))"
   ]
  },
  {
   "cell_type": "code",
   "execution_count": null,
   "id": "0e6a4f2f-4d43-47a1-8cc2-29fed01163a1",
   "metadata": {},
   "outputs": [],
   "source": [
    "# str < str\n",
    "a, b = \"apple\", \"banana\"\n",
    "res = a < b\n",
    "print(res, type(res))"
   ]
  },
  {
   "cell_type": "markdown",
   "id": "97be2801-8107-4458-9a40-567330d3d464",
   "metadata": {},
   "source": [
    "Greater than >"
   ]
  },
  {
   "cell_type": "code",
   "execution_count": null,
   "id": "15bc4143-dcc9-474b-9319-ea52d8e48eb3",
   "metadata": {},
   "outputs": [],
   "source": [
    "# int > int\n",
    "a, b = 5, 3\n",
    "res = a > b\n",
    "print(res, type(res))"
   ]
  },
  {
   "cell_type": "code",
   "execution_count": null,
   "id": "8ff22e1e-a111-4f8f-bc6c-6a847f44d9b1",
   "metadata": {},
   "outputs": [],
   "source": [
    "# int > float\n",
    "a, b = 5, 3.0\n",
    "res = a > b\n",
    "print(res, type(res))"
   ]
  },
  {
   "cell_type": "code",
   "execution_count": null,
   "id": "e8a26ef3-3be7-4aa2-bd0e-dfe564179916",
   "metadata": {},
   "outputs": [],
   "source": [
    "# float > float\n",
    "a, b = 5.0, 3.0\n",
    "res = a > b\n",
    "print(res, type(res))"
   ]
  },
  {
   "cell_type": "code",
   "execution_count": null,
   "id": "9f28e106-4637-4132-9abc-8f43a0ea6d6c",
   "metadata": {},
   "outputs": [],
   "source": [
    "# float > str\n",
    "a, b = 5.0, \"3\"\n",
    "res = a > b\n",
    "print(res, type(res))"
   ]
  },
  {
   "cell_type": "code",
   "execution_count": null,
   "id": "43526fca-131f-4550-865f-c78dd10578f4",
   "metadata": {},
   "outputs": [],
   "source": [
    "# str > str\n",
    "a, b = \"apple\", \"banana\"\n",
    "res = a > b\n",
    "print(res, type(res))"
   ]
  },
  {
   "cell_type": "markdown",
   "id": "6cd7510e-d59f-489e-9608-864c1d4fc7e6",
   "metadata": {},
   "source": [
    "Less than or equal <="
   ]
  },
  {
   "cell_type": "code",
   "execution_count": null,
   "id": "d8da2c76-5a50-455e-870c-98b1a6dda145",
   "metadata": {},
   "outputs": [],
   "source": [
    "# int <= int\n",
    "a, b = 5, 3\n",
    "res = a <= b\n",
    "print(res, type(res))"
   ]
  },
  {
   "cell_type": "code",
   "execution_count": null,
   "id": "acb8b40c-589d-4024-8639-dd9e33428e83",
   "metadata": {},
   "outputs": [],
   "source": [
    "# int <= float\n",
    "a, b = 5, 3.0\n",
    "res = a <= b\n",
    "print(res, type(res))"
   ]
  },
  {
   "cell_type": "code",
   "execution_count": null,
   "id": "dcd2a0c3-f19c-4f5a-b298-122798795a32",
   "metadata": {},
   "outputs": [],
   "source": [
    "# float <= float\n",
    "a, b = 5.0, 3.0\n",
    "res = a <= b\n",
    "print(res, type(res))"
   ]
  },
  {
   "cell_type": "code",
   "execution_count": null,
   "id": "009e7feb-c3b8-40f5-b7e4-5edbb8fdf4ea",
   "metadata": {},
   "outputs": [],
   "source": [
    "# float <= str\n",
    "a, b = 5.0, \"3\"\n",
    "res = a <= b\n",
    "print(res, type(res))"
   ]
  },
  {
   "cell_type": "code",
   "execution_count": null,
   "id": "aa8632bb-f8ab-4a00-904b-fefd65d7a8a9",
   "metadata": {},
   "outputs": [],
   "source": [
    "# str <= str\n",
    "a, b = \"apple\", \"banana\"\n",
    "res = a <= b\n",
    "print(res, type(res))"
   ]
  },
  {
   "cell_type": "markdown",
   "id": "61089ef0-5cb4-40a6-9656-56243d6904bd",
   "metadata": {},
   "source": [
    "Equality =="
   ]
  },
  {
   "cell_type": "code",
   "execution_count": null,
   "id": "d5cebfcd-f1ac-4892-b144-9bc4a02a2d83",
   "metadata": {},
   "outputs": [],
   "source": [
    "# int == int\n",
    "a, b = 5, 3\n",
    "res = a == b\n",
    "print(res, type(res))"
   ]
  },
  {
   "cell_type": "code",
   "execution_count": null,
   "id": "845a1f90-6940-46b8-b12e-bb3657a647e2",
   "metadata": {},
   "outputs": [],
   "source": [
    "# int == float\n",
    "a, b = 5, 5.0\n",
    "res = a == b\n",
    "print(res, type(res))"
   ]
  },
  {
   "cell_type": "code",
   "execution_count": null,
   "id": "d1e3e3a6-54d9-4c7a-acda-a3793afa0bad",
   "metadata": {},
   "outputs": [],
   "source": [
    "# float == float\n",
    "a, b = 5.0, 3.0\n",
    "res = a == b\n",
    "print(res, type(res))"
   ]
  },
  {
   "cell_type": "code",
   "execution_count": null,
   "id": "54a53014-e29d-4066-a7d1-48f6a34384ec",
   "metadata": {},
   "outputs": [],
   "source": [
    "# float == str\n",
    "a, b = 5.0, \"5\"\n",
    "res = a == b\n",
    "print(res, type(res))"
   ]
  },
  {
   "cell_type": "code",
   "execution_count": null,
   "id": "ec6af0b4-576b-4e73-a045-a6fddfb017a8",
   "metadata": {},
   "outputs": [],
   "source": [
    "# str == str\n",
    "a, b = \"5\", \"5\"\n",
    "res = a == b\n",
    "print(res, type(res))"
   ]
  },
  {
   "cell_type": "markdown",
   "id": "ddcbeed0-83a5-4444-880f-ca38362a458e",
   "metadata": {},
   "source": [
    "Numeric operations (+, -, *, /, %) fail if you mix numbers with strings.\n",
    "\n",
    "String operations (+, *) behave differently (concatenation or repetition).\n",
    "\n",
    "Comparisons can work for strings alphabetically.\n",
    "\n",
    "Equality == is safe for all types."
   ]
  },
  {
   "cell_type": "markdown",
   "id": "e62eaee0-8567-4382-bf0c-782a4328e4a5",
   "metadata": {},
   "source": [
    "4. Read the output of help(int), help(float) to know more about these data types"
   ]
  },
  {
   "cell_type": "code",
   "execution_count": null,
   "id": "5c1eb906-68a3-4c3a-bc01-4b37faeac9b8",
   "metadata": {},
   "outputs": [],
   "source": [
    "\n",
    "help(int)\n"
   ]
  },
  {
   "cell_type": "code",
   "execution_count": null,
   "id": "e0d51f00-1854-4a0c-9521-b301800a92ff",
   "metadata": {},
   "outputs": [],
   "source": [
    "help(float)\n"
   ]
  },
  {
   "cell_type": "markdown",
   "id": "51f5f2ab-3f6e-40ae-8288-f90cd84c1e41",
   "metadata": {},
   "source": [
    "## 4 About Random number generator"
   ]
  },
  {
   "cell_type": "markdown",
   "id": "5d9ab3b6-e627-4236-baea-5ad7997103d7",
   "metadata": {},
   "source": [
    "Investigate how python generates random numbers.\n"
   ]
  },
  {
   "cell_type": "code",
   "execution_count": null,
   "id": "312e49a0-5c07-4d88-9b21-ce762f872ca3",
   "metadata": {},
   "outputs": [],
   "source": [
    "import random\n"
   ]
  },
  {
   "cell_type": "markdown",
   "id": "27bf910d-0324-4356-ad6d-c9e480889076",
   "metadata": {},
   "source": [
    "Generating random numbers\n",
    "\n",
    "a) Random float between 0 and 1"
   ]
  },
  {
   "cell_type": "code",
   "execution_count": null,
   "id": "e98d3d49-bbff-4807-a2e6-12868f549ede",
   "metadata": {},
   "outputs": [],
   "source": [
    "num = random.random()#random.random() returns a float in [0.0, 1.0).\n",
    "print(num) \n"
   ]
  },
  {
   "cell_type": "markdown",
   "id": "dc2f5a9b-2682-4021-9bc3-e6e134731231",
   "metadata": {},
   "source": [
    "b) Random integer in a range"
   ]
  },
  {
   "cell_type": "code",
   "execution_count": null,
   "id": "cd1f9957-9483-4dea-825a-c28f3c33cc16",
   "metadata": {},
   "outputs": [],
   "source": [
    "#Randint(a, b) returns an integer a ≤ N ≤ b.\n",
    "num = random.randint(1, 10)\n",
    "print(num)  # random integer between 1 and 10 (inclusive)\n"
   ]
  },
  {
   "cell_type": "markdown",
   "id": "2012301e-b94b-4e81-8bc3-560543bc26b5",
   "metadata": {},
   "source": [
    "c) Random float in a range"
   ]
  },
  {
   "cell_type": "code",
   "execution_count": null,
   "id": "96413800-2e6f-4dab-97e1-cc59ab369817",
   "metadata": {},
   "outputs": [],
   "source": [
    "#uniform(a, b) returns a float in [a, b]\n",
    "num = random.uniform(1, 10)\n",
    "print(num)  # float between 1.0 and 10.0\n"
   ]
  },
  {
   "cell_type": "markdown",
   "id": "a035b865-5adc-418a-ae58-e19894a41ed5",
   "metadata": {},
   "source": [
    "d) Random choice from a list"
   ]
  },
  {
   "cell_type": "code",
   "execution_count": null,
   "id": "9042fbff-be1c-402f-b2de-ecd153eae529",
   "metadata": {},
   "outputs": [],
   "source": [
    "colors = [\"red\", \"green\", \"blue\"]\n",
    "choice = random.choice(colors)\n",
    "print(choice)  # randomly selects one element\n"
   ]
  },
  {
   "cell_type": "markdown",
   "id": "b1d69f39-7a25-40db-b24e-b5d1cd5977a2",
   "metadata": {},
   "source": [
    "e) Shuffle a list randomly"
   ]
  },
  {
   "cell_type": "code",
   "execution_count": null,
   "id": "b387cb09-f127-448b-83f2-b1ba9a1a4ccf",
   "metadata": {},
   "outputs": [],
   "source": [
    "numbers = [1, 2, 3, 4, 5]\n",
    "random.shuffle(numbers)\n",
    "print(numbers)  # list order changed randomly\n"
   ]
  },
  {
   "cell_type": "markdown",
   "id": "31357b01-3073-4c22-8809-844f35ed0d29",
   "metadata": {},
   "source": [
    "f) Random sample from a list (without replacement)"
   ]
  },
  {
   "cell_type": "code",
   "execution_count": null,
   "id": "ef891fce-aabd-4e51-a817-c32ea4402b2f",
   "metadata": {},
   "outputs": [],
   "source": [
    "numbers = [1, 2, 3, 4, 5]\n",
    "sample = random.sample(numbers, 3)\n",
    "print(sample)  # 3 unique elements randomly selected\n"
   ]
  },
  {
   "cell_type": "markdown",
   "id": "121dca13-b3be-42b9-8a4f-187b02c8c263",
   "metadata": {},
   "source": [
    "## 5 More on data types"
   ]
  },
  {
   "cell_type": "markdown",
   "id": "d9efc8fa-e93e-4f93-bec7-1b83aeb9d639",
   "metadata": {},
   "source": [
    "Here you will use $math.log10()$ and $math.floor()$, which require the line import math for you\n",
    "to access these functions. For these two functions, determine their value and data type.\n",
    "\n",
    "1. What is the value and type of $log10(42)$?\n"
   ]
  },
  {
   "cell_type": "code",
   "execution_count": null,
   "id": "63232699-4737-4a02-a05d-6ff8a612e16c",
   "metadata": {},
   "outputs": [],
   "source": [
    "import math"
   ]
  },
  {
   "cell_type": "code",
   "execution_count": null,
   "id": "a26ccb49-29f1-40d8-9118-9123e4bef7f6",
   "metadata": {},
   "outputs": [],
   "source": [
    "val = math.log10(42)\n",
    "print(val)\n",
    "print(type(val))\n"
   ]
  },
  {
   "cell_type": "markdown",
   "id": "09c54c35-c1eb-44a2-adbd-3f65beb09977",
   "metadata": {},
   "source": [
    "2. What is the value and type of $log10(0.32)$?"
   ]
  },
  {
   "cell_type": "code",
   "execution_count": null,
   "id": "a7c0fab8-434b-44b1-9991-98b49de1d27a",
   "metadata": {},
   "outputs": [],
   "source": [
    "import math"
   ]
  },
  {
   "cell_type": "code",
   "execution_count": null,
   "id": "6ad9a9d0-9e39-4e9d-ba12-6b46ef8771a1",
   "metadata": {},
   "outputs": [],
   "source": [
    "val = math.log10(0.32)\n",
    "print(val)\n",
    "print(type(val))"
   ]
  },
  {
   "cell_type": "markdown",
   "id": "c09ee93f-07ee-424a-ba54-d7ef65c7af17",
   "metadata": {},
   "source": [
    "3. What is the return type of floor acting on an int?\n",
    "   \n",
    "   Acting on a float?\n",
    "   \n",
    "   floor is in the math namespace.\n",
    "   \n",
    "   It will work only after import math and it is invoked as math.floor()."
   ]
  },
  {
   "cell_type": "code",
   "execution_count": null,
   "id": "7278556b-245a-46e9-9775-e838b2f5d7b1",
   "metadata": {},
   "outputs": [],
   "source": [
    "import math\n",
    "\n",
    "val = math.floor(42)\n",
    "print(val) \n",
    "print(type(val))\n"
   ]
  },
  {
   "cell_type": "code",
   "execution_count": null,
   "id": "25a22d4e-f8be-424b-bf34-47ec47cf5026",
   "metadata": {},
   "outputs": [],
   "source": [
    "import math\n",
    "\n",
    "val = math.floor(42.9)\n",
    "print(val) \n",
    "print(type(val))"
   ]
  },
  {
   "cell_type": "markdown",
   "id": "68514497-827d-4890-bfe2-208c38b81eeb",
   "metadata": {},
   "source": [
    "4. len() is a builtin function to count the length of things. For which of the basic data types\n",
    "so far does len() return a value? Does it return the length or the length+1?"
   ]
  },
  {
   "cell_type": "markdown",
   "id": "4c84602a-bc43-49e4-9616-9b89bcff26f3",
   "metadata": {},
   "source": [
    "1. For int"
   ]
  },
  {
   "cell_type": "code",
   "execution_count": null,
   "id": "a7b6d234-f8f9-4c14-9246-e5c6255778ac",
   "metadata": {},
   "outputs": [],
   "source": [
    "len(42)\n",
    "#Error → TypeError: object of type 'int' has no len()\n",
    " An integer is a single number, not a sequence, so it has no length."
   ]
  },
  {
   "cell_type": "markdown",
   "id": "ee92d5d1-6c3e-42a3-94b5-f0cb9195d62d",
   "metadata": {},
   "source": [
    "2. For float"
   ]
  },
  {
   "cell_type": "code",
   "execution_count": null,
   "id": "67209f1d-4798-4987-a62e-652ae63bd377",
   "metadata": {},
   "outputs": [],
   "source": [
    "len(3.14)\n",
    "#Error → TypeError: object of type 'float' has no len()\n",
    "A float is also just a single value."
   ]
  },
  {
   "cell_type": "markdown",
   "id": "ebdde4af-8397-438c-9d43-3a10810caa87",
   "metadata": {},
   "source": [
    "3. For str"
   ]
  },
  {
   "cell_type": "code",
   "execution_count": null,
   "id": "05544e03-25a8-42df-aace-f68aa7834479",
   "metadata": {},
   "outputs": [],
   "source": [
    "len(\"hello\")\n"
   ]
  },
  {
   "cell_type": "markdown",
   "id": "a9dafe4b-5892-4e91-b330-a88c3099edb2",
   "metadata": {},
   "source": [
    "len() returns a value for strings (and other collections), giving the exact length of the object, not length + 1."
   ]
  },
  {
   "cell_type": "markdown",
   "id": "bf0f79c2-e753-425b-a9ef-9662a837882a",
   "metadata": {},
   "source": [
    "5. Write an expression to determine the number of digits in a non-negative integer. Hint:\n",
    "maybe $len()$ or $math.log()$ might be useful here.\n"
   ]
  },
  {
   "cell_type": "markdown",
   "id": "68df4e5b-9f66-46e6-a081-98e161e30b79",
   "metadata": {},
   "source": [
    "Approach 1: Using len()"
   ]
  },
  {
   "cell_type": "code",
   "execution_count": null,
   "id": "e12caf22-f597-416a-8405-e3cb45d58d34",
   "metadata": {},
   "outputs": [],
   "source": [
    "#We can convert the integer to a string and count its characters.\n",
    "n = 12345\n",
    "num_digits = len(str(n))\n",
    "print(num_digits)   # Output: 5\n"
   ]
  },
  {
   "cell_type": "markdown",
   "id": "5dc6f264-cb22-4b83-8aff-6b0009b28d5b",
   "metadata": {},
   "source": [
    "Approach 2: Using math.log10()"
   ]
  },
  {
   "cell_type": "code",
   "execution_count": null,
   "id": "2d8b7700-03d6-4c89-9179-8d711cc44277",
   "metadata": {},
   "outputs": [],
   "source": [
    "digits = math.log10(12345) + 1"
   ]
  },
  {
   "cell_type": "code",
   "execution_count": null,
   "id": "9bcda8ad-22de-47f5-be15-f174db3009b9",
   "metadata": {},
   "outputs": [],
   "source": [
    "print(digits)"
   ]
  }
 ],
 "metadata": {
  "kernelspec": {
   "display_name": "Python [conda env:base] *",
   "language": "python",
   "name": "conda-base-py"
  },
  "language_info": {
   "codemirror_mode": {
    "name": "ipython",
    "version": 3
   },
   "file_extension": ".py",
   "mimetype": "text/x-python",
   "name": "python",
   "nbconvert_exporter": "python",
   "pygments_lexer": "ipython3",
   "version": "3.13.5"
  }
 },
 "nbformat": 4,
 "nbformat_minor": 5
}
