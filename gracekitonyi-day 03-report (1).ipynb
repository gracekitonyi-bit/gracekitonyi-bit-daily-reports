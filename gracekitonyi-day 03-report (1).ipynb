{
 "cells": [
  {
   "cell_type": "markdown",
   "id": "c3bd624b-eb1d-4ade-8f6e-8da976070e6c",
   "metadata": {},
   "source": [
    "## Strings and files"
   ]
  },
  {
   "cell_type": "code",
   "execution_count": 4,
   "id": "c890426a-256b-405a-a13b-67f1a13e063c",
   "metadata": {},
   "outputs": [],
   "source": [
    "string_1=\"Will you be at the meeting today?\"\n",
    "string_2='\"Yes\", he replies.'"
   ]
  },
  {
   "cell_type": "code",
   "execution_count": 6,
   "id": "0140f0c4-b378-4ac5-bb5f-73073f6c9ea9",
   "metadata": {},
   "outputs": [
    {
     "name": "stdout",
     "output_type": "stream",
     "text": [
      "Will you be at the meeting today?\n"
     ]
    }
   ],
   "source": [
    "print(string_1)"
   ]
  },
  {
   "cell_type": "code",
   "execution_count": 41,
   "id": "1e7249a2-47a0-44c6-a53e-df55d57288cc",
   "metadata": {},
   "outputs": [
    {
     "name": "stdout",
     "output_type": "stream",
     "text": [
      "\"Yes\", he replies.\n"
     ]
    }
   ],
   "source": [
    "print(string_2)"
   ]
  },
  {
   "cell_type": "code",
   "execution_count": null,
   "id": "25c0e5b8-ea69-4aa2-a179-ddeb901c6e10",
   "metadata": {},
   "outputs": [],
   "source": []
  },
  {
   "cell_type": "markdown",
   "id": "e8470068-4935-4d84-9349-7d4ceca92848",
   "metadata": {},
   "source": [
    "## Indexing"
   ]
  },
  {
   "cell_type": "code",
   "execution_count": 16,
   "id": "6d07ddbb-5efb-48b1-b85a-e993072810c0",
   "metadata": {},
   "outputs": [
    {
     "data": {
      "text/plain": [
       "'W'"
      ]
     },
     "execution_count": 16,
     "metadata": {},
     "output_type": "execute_result"
    }
   ],
   "source": [
    "string_1[0]#this shows first index in your character"
   ]
  },
  {
   "cell_type": "markdown",
   "id": "363bc29c-dc13-4bef-9d4b-d0dcadd6e027",
   "metadata": {},
   "source": [
    "## Slicing"
   ]
  },
  {
   "cell_type": "markdown",
   "id": "a911930c-6bc2-4b16-b062-4d8954c73d77",
   "metadata": {},
   "source": [
    "string[star:stop:step]"
   ]
  },
  {
   "cell_type": "code",
   "execution_count": 18,
   "id": "1f1ee8ec-f11c-45fe-9ea5-581b3566faf3",
   "metadata": {},
   "outputs": [
    {
     "name": "stdout",
     "output_type": "stream",
     "text": [
      "Will you be at the meeting today?\n"
     ]
    },
    {
     "data": {
      "text/plain": [
       "'l o'"
      ]
     },
     "execution_count": 18,
     "metadata": {},
     "output_type": "execute_result"
    }
   ],
   "source": [
    "print(string_1)\n",
    "string_1[2:8:2]"
   ]
  },
  {
   "cell_type": "code",
   "execution_count": 23,
   "id": "e6e424aa-9b30-4aac-8876-c75087873dd2",
   "metadata": {},
   "outputs": [
    {
     "data": {
      "text/plain": [
       "'Wi'"
      ]
     },
     "execution_count": 23,
     "metadata": {},
     "output_type": "execute_result"
    }
   ],
   "source": [
    "string_1[:2]"
   ]
  },
  {
   "cell_type": "code",
   "execution_count": 29,
   "id": "f4a8115e-2cb3-455f-9d22-f051677e3b86",
   "metadata": {},
   "outputs": [
    {
     "data": {
      "text/plain": [
       "'l you be at the meeting today'"
      ]
     },
     "execution_count": 29,
     "metadata": {},
     "output_type": "execute_result"
    }
   ],
   "source": [
    "string_1[3:-1]"
   ]
  },
  {
   "cell_type": "markdown",
   "id": "85a5bc6d-77aa-49f7-b6df-065ae2cd6486",
   "metadata": {},
   "source": [
    "## Concatenation"
   ]
  },
  {
   "cell_type": "code",
   "execution_count": 31,
   "id": "acbb6234-7feb-4196-ab4b-bc16af3a7dbd",
   "metadata": {},
   "outputs": [
    {
     "name": "stdout",
     "output_type": "stream",
     "text": [
      "Helloworld\n",
      "worldHello\n"
     ]
    }
   ],
   "source": [
    "my_var1 = \"Hello\"\n",
    "my_var2= \"world\"\n",
    "\n",
    "concat=my_var1+my_var2\n",
    "\n",
    "concat1=my_var2+my_var1\n",
    "\n",
    "print(concat)\n",
    "print(concat1)"
   ]
  },
  {
   "cell_type": "code",
   "execution_count": 33,
   "id": "aa8c8dc3-e2da-449c-b0e4-c997a183e279",
   "metadata": {},
   "outputs": [
    {
     "name": "stdout",
     "output_type": "stream",
     "text": [
      "world\n"
     ]
    }
   ],
   "source": [
    "print(my_var2)"
   ]
  },
  {
   "cell_type": "code",
   "execution_count": 42,
   "id": "9f929219-8cbd-4341-ad3a-ef54ad42397a",
   "metadata": {},
   "outputs": [
    {
     "name": "stdout",
     "output_type": "stream",
     "text": [
      "worldworld\n"
     ]
    }
   ],
   "source": [
    "print(2*my_var2)"
   ]
  },
  {
   "cell_type": "markdown",
   "id": "bfaf2b1a-f307-4f35-b769-980bb804763a",
   "metadata": {},
   "source": [
    "Do you know why the is an error below?"
   ]
  },
  {
   "cell_type": "code",
   "execution_count": 38,
   "id": "5d8ab79e-d028-4a05-8df0-6f24e7a74bfc",
   "metadata": {},
   "outputs": [
    {
     "ename": "TypeError",
     "evalue": "can't multiply sequence by non-int of type 'float'",
     "output_type": "error",
     "traceback": [
      "\u001b[1;31m---------------------------------------------------------------------------\u001b[0m",
      "\u001b[1;31mTypeError\u001b[0m                                 Traceback (most recent call last)",
      "Cell \u001b[1;32mIn[38], line 1\u001b[0m\n\u001b[1;32m----> 1\u001b[0m \u001b[38;5;28mprint\u001b[39m(\u001b[38;5;241m2.0\u001b[39m\u001b[38;5;241m*\u001b[39mmy_var2)\n",
      "\u001b[1;31mTypeError\u001b[0m: can't multiply sequence by non-int of type 'float'"
     ]
    }
   ],
   "source": [
    "print(2.0*my_var2)"
   ]
  },
  {
   "cell_type": "code",
   "execution_count": 40,
   "id": "db36b311-99f5-4cd7-94a2-a1c89ddf41a5",
   "metadata": {},
   "outputs": [
    {
     "data": {
      "text/plain": [
       "True"
      ]
     },
     "execution_count": 40,
     "metadata": {},
     "output_type": "execute_result"
    }
   ],
   "source": [
    "2==2.0"
   ]
  },
  {
   "cell_type": "code",
   "execution_count": 46,
   "id": "30ddfd85-496f-446b-b696-d354264e31f6",
   "metadata": {},
   "outputs": [
    {
     "name": "stdout",
     "output_type": "stream",
     "text": [
      "hello everyone!\n"
     ]
    }
   ],
   "source": [
    "in_built= \"hello everyone!\"\n",
    "print(in_built)"
   ]
  },
  {
   "cell_type": "code",
   "execution_count": 50,
   "id": "c952c240-2691-49dd-96f4-f6e3d2af686d",
   "metadata": {},
   "outputs": [
    {
     "data": {
      "text/plain": [
       "\u001b[1;31mSignature:\u001b[0m \u001b[0min_built\u001b[0m\u001b[1;33m.\u001b[0m\u001b[0mcapitalize\u001b[0m\u001b[1;33m(\u001b[0m\u001b[1;33m)\u001b[0m\u001b[1;33m\u001b[0m\u001b[1;33m\u001b[0m\u001b[0m\n",
       "\u001b[1;31mDocstring:\u001b[0m\n",
       "Return a capitalized version of the string.\n",
       "\n",
       "More specifically, make the first character have upper case and the rest lower\n",
       "case.\n",
       "\u001b[1;31mType:\u001b[0m      builtin_function_or_method"
      ]
     },
     "metadata": {},
     "output_type": "display_data"
    }
   ],
   "source": [
    "?in_built.capitalize"
   ]
  },
  {
   "cell_type": "code",
   "execution_count": 51,
   "id": "739a5835-fec8-4bc7-8632-bce18bffcbec",
   "metadata": {},
   "outputs": [
    {
     "name": "stdout",
     "output_type": "stream",
     "text": [
      "hello everyone!\n"
     ]
    }
   ],
   "source": [
    "print(in_built)"
   ]
  },
  {
   "cell_type": "code",
   "execution_count": 53,
   "id": "b77fb1fe-558e-4594-a077-337d63a20430",
   "metadata": {},
   "outputs": [
    {
     "data": {
      "text/plain": [
       "'Hello everyone!'"
      ]
     },
     "execution_count": 53,
     "metadata": {},
     "output_type": "execute_result"
    }
   ],
   "source": [
    "in_built.capitalize()"
   ]
  },
  {
   "cell_type": "code",
   "execution_count": 56,
   "id": "0e3d1a63-84ad-4ad0-9c78-3d5d37cd6066",
   "metadata": {},
   "outputs": [
    {
     "data": {
      "text/plain": [
       "\u001b[1;31mSignature:\u001b[0m \u001b[0min_built\u001b[0m\u001b[1;33m.\u001b[0m\u001b[0mupper\u001b[0m\u001b[1;33m(\u001b[0m\u001b[1;33m)\u001b[0m\u001b[1;33m\u001b[0m\u001b[1;33m\u001b[0m\u001b[0m\n",
       "\u001b[1;31mDocstring:\u001b[0m Return a copy of the string converted to uppercase.\n",
       "\u001b[1;31mType:\u001b[0m      builtin_function_or_method"
      ]
     },
     "metadata": {},
     "output_type": "display_data"
    }
   ],
   "source": [
    "?in_built.upper"
   ]
  },
  {
   "cell_type": "code",
   "execution_count": 59,
   "id": "94cfe5b2-824e-4ca4-a5de-32b320d5641f",
   "metadata": {},
   "outputs": [
    {
     "data": {
      "text/plain": [
       "'HELLO EVERYONE!'"
      ]
     },
     "execution_count": 59,
     "metadata": {},
     "output_type": "execute_result"
    }
   ],
   "source": [
    "in_built.upper()"
   ]
  },
  {
   "cell_type": "code",
   "execution_count": 61,
   "id": "5c34f238-ce77-4750-b408-bc174e716b60",
   "metadata": {},
   "outputs": [
    {
     "data": {
      "text/plain": [
       "\u001b[1;31mSignature:\u001b[0m \u001b[0min_built\u001b[0m\u001b[1;33m.\u001b[0m\u001b[0mlower\u001b[0m\u001b[1;33m(\u001b[0m\u001b[1;33m)\u001b[0m\u001b[1;33m\u001b[0m\u001b[1;33m\u001b[0m\u001b[0m\n",
       "\u001b[1;31mDocstring:\u001b[0m Return a copy of the string converted to lowercase.\n",
       "\u001b[1;31mType:\u001b[0m      builtin_function_or_method"
      ]
     },
     "metadata": {},
     "output_type": "display_data"
    }
   ],
   "source": [
    "?in_built.lower"
   ]
  },
  {
   "cell_type": "code",
   "execution_count": 63,
   "id": "ec335365-02c0-47e8-9165-9a8ae52644f5",
   "metadata": {},
   "outputs": [
    {
     "data": {
      "text/plain": [
       "'hello everyone!'"
      ]
     },
     "execution_count": 63,
     "metadata": {},
     "output_type": "execute_result"
    }
   ],
   "source": [
    "in_built.lower()"
   ]
  },
  {
   "cell_type": "code",
   "execution_count": 67,
   "id": "6fb85198-71c3-4d18-b20f-13d898393ae3",
   "metadata": {},
   "outputs": [
    {
     "data": {
      "text/plain": [
       "\u001b[1;31mSignature:\u001b[0m \u001b[0min_built\u001b[0m\u001b[1;33m.\u001b[0m\u001b[0mcenter\u001b[0m\u001b[1;33m(\u001b[0m\u001b[0mwidth\u001b[0m\u001b[1;33m,\u001b[0m \u001b[0mfillchar\u001b[0m\u001b[1;33m=\u001b[0m\u001b[1;34m' '\u001b[0m\u001b[1;33m,\u001b[0m \u001b[1;33m/\u001b[0m\u001b[1;33m)\u001b[0m\u001b[1;33m\u001b[0m\u001b[1;33m\u001b[0m\u001b[0m\n",
       "\u001b[1;31mDocstring:\u001b[0m\n",
       "Return a centered string of length width.\n",
       "\n",
       "Padding is done using the specified fill character (default is a space).\n",
       "\u001b[1;31mType:\u001b[0m      builtin_function_or_method"
      ]
     },
     "metadata": {},
     "output_type": "display_data"
    }
   ],
   "source": [
    "?in_built.center"
   ]
  },
  {
   "cell_type": "code",
   "execution_count": 80,
   "id": "3c738678-bf82-48dc-85c8-f8eaecd63c6e",
   "metadata": {},
   "outputs": [
    {
     "data": {
      "text/plain": [
       "10"
      ]
     },
     "execution_count": 80,
     "metadata": {},
     "output_type": "execute_result"
    }
   ],
   "source": [
    "in_built.find(\"y\")"
   ]
  },
  {
   "cell_type": "code",
   "execution_count": 83,
   "id": "8055d1ed-db33-4557-8adf-56e0d9a87679",
   "metadata": {},
   "outputs": [
    {
     "data": {
      "text/plain": [
       "10"
      ]
     },
     "execution_count": 83,
     "metadata": {},
     "output_type": "execute_result"
    }
   ],
   "source": [
    "in_built.index(\"y\")"
   ]
  },
  {
   "cell_type": "code",
   "execution_count": 89,
   "id": "95b8417a-0899-4360-9566-ffad2b816548",
   "metadata": {},
   "outputs": [
    {
     "data": {
      "text/plain": [
       "True"
      ]
     },
     "execution_count": 89,
     "metadata": {},
     "output_type": "execute_result"
    }
   ],
   "source": [
    "in_built.islower()"
   ]
  },
  {
   "cell_type": "code",
   "execution_count": 144,
   "id": "daf88350-8324-43be-8eb4-6c38fa01b6d3",
   "metadata": {},
   "outputs": [
    {
     "data": {
      "text/plain": [
       "False"
      ]
     },
     "execution_count": 144,
     "metadata": {},
     "output_type": "execute_result"
    }
   ],
   "source": [
    "story= \"Python is the best language so far\"\n",
    "\n",
    "\n",
    "\"python\" in story"
   ]
  },
  {
   "cell_type": "markdown",
   "id": "8ded2ed6-d196-4c87-947f-28291c7b49a8",
   "metadata": {},
   "source": [
    "# FILE\n",
    "## How to write a file"
   ]
  },
  {
   "cell_type": "code",
   "execution_count": 120,
   "id": "9c135b79-c266-424a-b07c-78cc927c467c",
   "metadata": {},
   "outputs": [
    {
     "name": "stdout",
     "output_type": "stream",
     "text": [
      " Volume in drive C has no label.\n",
      " Volume Serial Number is 5071-A36C\n",
      "\n",
      " Directory of C:\\Users\\Administrator\\Desktop\\python_course\\notebooks_lecture_notes\\gracekitonyi-day03-report.ipynb\n",
      "\n",
      "09/25/2025  12:35 PM    <DIR>          .\n",
      "09/25/2025  12:35 PM    <DIR>          ..\n",
      "09/25/2025  11:13 AM    <DIR>          .ipynb_checkpoints\n",
      "09/25/2025  12:35 PM            25,769 Untitled.ipynb\n",
      "               1 File(s)         25,769 bytes\n",
      "               3 Dir(s)   4,446,810,112 bytes free\n"
     ]
    }
   ],
   "source": [
    "!dir"
   ]
  },
  {
   "cell_type": "code",
   "execution_count": 141,
   "id": "a8673860-6847-4d9f-b9ce-4c62c64dfc19",
   "metadata": {},
   "outputs": [
    {
     "name": "stdout",
     "output_type": "stream",
     "text": [
      "C:\\Users\\Administrator\\Desktop\\python_course\\notebooks_lecture_notes\\gracekitonyi-day03-report.ipynb\n"
     ]
    }
   ],
   "source": [
    "import os\n",
    "print(os.getcwd())\n"
   ]
  },
  {
   "cell_type": "code",
   "execution_count": 143,
   "id": "78179e10-2315-4960-98c1-775baea8f6b0",
   "metadata": {},
   "outputs": [
    {
     "data": {
      "text/plain": [
       "'C:\\\\Users\\\\Administrator\\\\Desktop\\\\python_course\\\\notebooks_lecture_notes\\\\gracekitonyi-day03-report.ipynb'"
      ]
     },
     "execution_count": 143,
     "metadata": {},
     "output_type": "execute_result"
    }
   ],
   "source": [
    "os.getcwd()"
   ]
  },
  {
   "cell_type": "code",
   "execution_count": 149,
   "id": "3ee40a66-2363-4b95-ab13-4fbe70bdf9ac",
   "metadata": {},
   "outputs": [
    {
     "name": "stdout",
     "output_type": "stream",
     "text": [
      "C:\\Users\\Administrator\\Desktop\\python_course\\notebooks_lecture_notes\\gracekitonyi-day03-report.ipynb\n"
     ]
    }
   ],
   "source": [
    "import os\n",
    "print(os.getcwd())\n"
   ]
  },
  {
   "cell_type": "code",
   "execution_count": null,
   "id": "4d746f57-474e-4b56-884b-e7e277f1920a",
   "metadata": {},
   "outputs": [],
   "source": []
  },
  {
   "cell_type": "code",
   "execution_count": 167,
   "id": "6ca818eb-3e34-49b4-97b8-3b9db5a42747",
   "metadata": {},
   "outputs": [
    {
     "name": "stdout",
     "output_type": "stream",
     "text": [
      "['.ipynb_checkpoints', 'Untitled.ipynb']\n"
     ]
    }
   ],
   "source": [
    "import os\n",
    "print(os.listdir())\n"
   ]
  },
  {
   "cell_type": "code",
   "execution_count": 168,
   "id": "ba6cc26b-dedb-400e-ab82-5e419befc92e",
   "metadata": {},
   "outputs": [],
   "source": [
    "# %load \"C:/Users/Administrator/Desktop/python_course/notebooks_lecture_notes/testfile.txt\"\n",
    "fghij\n",
    "aims class\n",
    "Rwanda 2025\n",
    "this is really cool"
   ]
  },
  {
   "cell_type": "code",
   "execution_count": 130,
   "id": "e2844421-3050-4d31-bf77-e3f47f09052b",
   "metadata": {},
   "outputs": [],
   "source": [
    "#%load testfile.txt"
   ]
  },
  {
   "cell_type": "code",
   "execution_count": 169,
   "id": "eea6a06e-0504-4afe-819f-ce623bdce497",
   "metadata": {},
   "outputs": [],
   "source": [
    "f = open('C:/Users/Administrator/Desktop/python_course/notebooks_lecture_notes/testfile.txt', 'r')\n"
   ]
  },
  {
   "cell_type": "code",
   "execution_count": 170,
   "id": "adb1eae6-5564-47c9-81b8-0d313b8cf65e",
   "metadata": {},
   "outputs": [
    {
     "data": {
      "text/plain": [
       "_io.TextIOWrapper"
      ]
     },
     "execution_count": 170,
     "metadata": {},
     "output_type": "execute_result"
    }
   ],
   "source": [
    "type(f)"
   ]
  },
  {
   "cell_type": "code",
   "execution_count": 137,
   "id": "644d91a5-924e-4eb7-8079-a37a99831697",
   "metadata": {},
   "outputs": [
    {
     "data": {
      "text/plain": [
       "['fghij\\n', 'aims class\\n', 'Rwanda 2025\\n', 'this is really cool']"
      ]
     },
     "execution_count": 137,
     "metadata": {},
     "output_type": "execute_result"
    }
   ],
   "source": [
    "f.readlines()"
   ]
  },
  {
   "cell_type": "code",
   "execution_count": 138,
   "id": "97f2dea4-2f45-4603-a6ed-1ecb1f825eaf",
   "metadata": {},
   "outputs": [
    {
     "data": {
      "text/plain": [
       "<function TextIOWrapper.read(size=-1, /)>"
      ]
     },
     "execution_count": 138,
     "metadata": {},
     "output_type": "execute_result"
    }
   ],
   "source": [
    "f.read"
   ]
  },
  {
   "cell_type": "code",
   "execution_count": 139,
   "id": "9387c5e2-101a-42d9-96fd-91d919832d2c",
   "metadata": {},
   "outputs": [
    {
     "data": {
      "text/plain": [
       "<function TextIOWrapper.close()>"
      ]
     },
     "execution_count": 139,
     "metadata": {},
     "output_type": "execute_result"
    }
   ],
   "source": [
    "f.close"
   ]
  },
  {
   "cell_type": "code",
   "execution_count": 172,
   "id": "6caa50b4-db61-4a08-b1a3-29a539691587",
   "metadata": {},
   "outputs": [
    {
     "data": {
      "text/plain": [
       "<function TextIOWrapper.read(size=-1, /)>"
      ]
     },
     "execution_count": 172,
     "metadata": {},
     "output_type": "execute_result"
    }
   ],
   "source": [
    "f.read"
   ]
  },
  {
   "cell_type": "code",
   "execution_count": 7,
   "id": "d9e9447d-9b0d-4af8-bb98-4d369ca7fb75",
   "metadata": {},
   "outputs": [],
   "source": [
    "# Open file in write mode\n",
    "file = open(\"file.txt\", \"w\")\n",
    "file.write(\"Hi, welcome to learning and proceeding with Python with instructor Grace. Are you enjoying it with me?  Kelly says she is enjoying.\")\n",
    "file.close()  # <-- important to close so data is written"
   ]
  },
  {
   "cell_type": "code",
   "execution_count": 13,
   "id": "2c05b03f-abaf-4298-bfd0-6d1cfec1ef8a",
   "metadata": {},
   "outputs": [
    {
     "name": "stdout",
     "output_type": "stream",
     "text": [
      "['Hi, welcome to learning and proceeding with Python with instructor Grace. Are you enjoying it with me?  Kelly says she is enjoying.']\n",
      "<class '_io.TextIOWrapper'>\n"
     ]
    }
   ],
   "source": [
    "# Open file in read mode\n",
    "file = open(\"file.txt\", \"r\")\n",
    "lines = file.readlines()  # read all lines into a list\n",
    "print(lines)\n",
    "print(type(file))\n",
    "file.close()"
   ]
  }
 ],
 "metadata": {
  "kernelspec": {
   "display_name": "Python [conda env:base] *",
   "language": "python",
   "name": "conda-base-py"
  },
  "language_info": {
   "codemirror_mode": {
    "name": "ipython",
    "version": 3
   },
   "file_extension": ".py",
   "mimetype": "text/x-python",
   "name": "python",
   "nbconvert_exporter": "python",
   "pygments_lexer": "ipython3",
   "version": "3.13.5"
  }
 },
 "nbformat": 4,
 "nbformat_minor": 5
}
